{
 "cells": [
  {
   "cell_type": "code",
   "execution_count": 3,
   "metadata": {
    "collapsed": false
   },
   "outputs": [],
   "source": [
    "import pandas as pd\n",
    "raw_data = pd.read_csv(\"./titanic.csv\")\n",
    "survival_subset = raw_data[[\"Sex\", \"Age\", \"Survived\"]]"
   ]
  },
  {
   "cell_type": "code",
   "execution_count": 6,
   "metadata": {
    "collapsed": false
   },
   "outputs": [],
   "source": [
    "all_with_age = survival_subset[pd.notnull(survival_subset[\"Age\"])] # dropping all rows with no age data\n",
    "children = all_with_age[all_with_age[\"Age\"] < 16] # subsetting by <16 years old\n",
    "\n",
    "def generate_gender_data(sex=\"female\"):\n",
    "    subset = all_with_age[all_with_age[\"Sex\"] == sex]\n",
    "    return subset[~subset.isin(children)].dropna() # get adults by dropping all rows that are in children's table\n",
    "\n",
    "women = generate_gender_data()\n",
    "men = generate_gender_data(sex=\"male\")"
   ]
  },
  {
   "cell_type": "code",
   "execution_count": 68,
   "metadata": {
    "collapsed": true
   },
   "outputs": [],
   "source": [
    "class ChiSquareTestOfHomogeneity():\n",
    "    \"\"\"\n",
    "    Overview\n",
    "    =======================\n",
    "    Run a chi-square test of homogeneity to determine whether frequency counts \n",
    "    are distributed identically across different populations.\n",
    "    \n",
    "    The test should be applied to a single categorical variable from two different populations, \n",
    "    where data from the categorical variable is represented in binary format.\n",
    "    \n",
    "    Example\n",
    "    -----------------------\n",
    "    condition=\"Survived\"\n",
    "    df[\"Survived\"] should contain only 0s and 1s.\n",
    "\n",
    "    Keyword arguments\n",
    "    -----------------------\n",
    "    population_labels -- labels for your comparison and expected frequency tables\n",
    "    population_datasets -- data that contains observed frequencies to measure; condition column required\n",
    "    condition -- the column out of the datasets provided that will be measured in the test\n",
    "    alpha -- level of statistical significance\n",
    "    critical_value = chi-square critical value (see notes for details)\n",
    "    \n",
    "    Other\n",
    "    -----------------------\n",
    "    Default critical value based on alpha level and 1 degree of freedom and the table: \n",
    "        https://faculty.elgin.edu/dkernler/statistics/ch09/images/chi-square-table.gif\n",
    "    More information about the test here: \n",
    "        http://stattrek.com/chi-square-test/homogeneity.aspx?Tutorial=AP\n",
    "    \"\"\"\n",
    "    \n",
    "    def __init__(self, population_labels=[], population_datasets=[], condition=\"\", alpha=0.01, critical_value=6.635):\n",
    "        if len(population_labels) > 2:\n",
    "            raise ValueError(\"Cannot compare more than two populations.\")\n",
    "        elif len(set(population_labels)) != len(population_labels):\n",
    "            raise ValueError(\"Cannot compare the same population\")\n",
    "        else:\n",
    "            self.pop1_data, self.pop2_data = population_datasets[0], population_datasets[1]\n",
    "            self.pop1_label, self.pop2_label = population_labels[0], population_labels[1]\n",
    "            self.condition = condition\n",
    "            self.inverse_condition = \"Not %s\" % self.condition\n",
    "            self.alpha = alpha\n",
    "            self.crit = critical_value\n",
    "    \n",
    "    def calculate_condition_counts(self, pop_data):\n",
    "        return pop_data[self.condition].sum(), (pop_data[self.condition].count() - pop_data[self.condition].sum())\n",
    "    \n",
    "    def generate_comp_table(self):\n",
    "        '''Create comparison table'''\n",
    "        pop1_condition, pop1_inverse = self.calculate_condition_counts(self.pop1_data)\n",
    "        pop2_condition, pop2_inverse = self.calculate_condition_counts(self.pop2_data)\n",
    "        total_condition = pop1_condition + pop2_condition\n",
    "        total_inverse = pop1_inverse + pop2_inverse\n",
    "        total_pop1 = self.pop1_data[self.condition].count()\n",
    "        total_pop2 = self.pop2_data[self.condition].count()\n",
    "        self.comp_table = pd.DataFrame({(self.condition): {self.pop1_label: pop1_condition, \n",
    "                                                     self.pop2_label: pop2_condition, \n",
    "                                                     \"Total\": total_condition}, \n",
    "                                        self.inverse_condition: {self.pop1_label: pop1_inverse, \n",
    "                                                 self.pop2_label: pop2_inverse,  \n",
    "                                                 \"Total\": total_inverse},\n",
    "                                        \"Total\": {self.pop1_label: total_pop1, \n",
    "                                                  self.pop2_label: total_pop2, \n",
    "                                                  \"Total\": total_pop1+total_pop2}}).T[[self.pop1_label, self.pop2_label, \"Total\"]].T\n",
    "        print \"\\n\\nComparison Table\\n\"\n",
    "        print self.comp_table\n",
    "    \n",
    "    def calculate_E(self, row_total, column_total):\n",
    "        grand_total = self.comp_table.loc[\"Total\"][\"Total\"]\n",
    "        return (row_total * column_total) / grand_total\n",
    "    \n",
    "    def calculate_E_by_pop(self, pop):\n",
    "        inverse = self.calculate_E(self.comp_table.loc[pop][\"Total\"], self.comp_table.loc[pop][self.inverse_condition])\n",
    "        condition = self.calculate_E(self.comp_table.loc[pop][\"Total\"], self.comp_table.loc[pop][self.condition])\n",
    "        return inverse, condition\n",
    "    \n",
    "    def generate_e_table(self):\n",
    "        '''Create expected frequency contingency table'''\n",
    "        # helpful resource: http://www.pindling.org/Math/Statistics/Textbook/Chapter11_Chi_Square/homogeneity.html\n",
    "        \n",
    "        pop1_inverse_e, pop1_condition_e = self.calculate_E_by_pop(self.pop1_label)\n",
    "        pop2_inverse_e, pop2_condition_e = self.calculate_E_by_pop(self.pop2_label)\n",
    "        self.e_table =  pd.DataFrame({self.condition: {self.pop1_label: pop1_condition_e, self.pop2_label: pop2_condition_e}, \n",
    "                                      self.inverse_condition: {self.pop1_label: pop1_inverse_e, self.pop2_label: pop2_inverse_e}})\n",
    "        print \"\\n\\nExpected Frequency Table\\n\"\n",
    "        print self.e_table\n",
    "    \n",
    "    def print_results(self):\n",
    "        print \"\\n\\nResults\\n\"\n",
    "        print \"Chi-square: %f\" % self.chi_square\n",
    "        print \"Chi-square critical value at p=%f: %f\" % (self.alpha, self.crit)\n",
    "        print \"Statistically significant: %s\" % (self.chi_square > self.crit)\n",
    "    \n",
    "    def run_test(self):\n",
    "        '''Run a chi-square test of homogeneity based on the population data and parameters \n",
    "        with which the instance was created'''\n",
    "        \n",
    "        print \"Chi-Square Test of Homogeneity\"\n",
    "        print \"Comparison of Rates of Survival between %s and %s\" % (self.pop1_label, self.pop2_label)\n",
    "        \n",
    "        # Step 0: generate tables\n",
    "        \n",
    "        self.generate_comp_table()\n",
    "        self.generate_e_table()\n",
    "        \n",
    "        # Step 1: subtract observed from expected\n",
    "        comp_wo_totals = self.comp_table[[self.inverse_condition, self.condition]].loc[[self.pop1_label, self.pop2_label]]\n",
    "        diff = comp_wo_totals - self.e_table\n",
    "\n",
    "        # Step 2: square each value\n",
    "        diff = diff**2\n",
    "\n",
    "        # Step 3: divide by expected frequency\n",
    "        diff = diff/self.e_table\n",
    "\n",
    "        # Step 4: calculate chi-square\n",
    "        self.chi_square = diff.loc[self.pop1_label].sum() + diff.loc[self.pop2_label].sum()\n",
    "        \n",
    "        # Step 5: print results\n",
    "        self.print_results()"
   ]
  },
  {
   "cell_type": "code",
   "execution_count": 69,
   "metadata": {
    "collapsed": false
   },
   "outputs": [],
   "source": [
    "test = ChiSquareTestOfHomogeneity(population_labels=[\"Women\", \"Men\"], \n",
    "                                  population_datasets=[women, men], \n",
    "                                  condition=\"Survived\")"
   ]
  },
  {
   "cell_type": "code",
   "execution_count": 70,
   "metadata": {
    "collapsed": false
   },
   "outputs": [
    {
     "name": "stdout",
     "output_type": "stream",
     "text": [
      "\n",
      "    Overview\n",
      "    =======================\n",
      "    Run a chi-square test of homogeneity to determine whether frequency counts \n",
      "    are distributed identically across different populations.\n",
      "    \n",
      "    The test should be applied to a single categorical variable from two different populations, \n",
      "    where data from the categorical variable is represented in binary format.\n",
      "    \n",
      "    Example\n",
      "    -----------------------\n",
      "    condition=\"Survived\"\n",
      "    df[\"Survived\"] should contain only 0s and 1s.\n",
      "\n",
      "    Keyword arguments\n",
      "    -----------------------\n",
      "    population_labels -- labels for your comparison and expected frequency tables\n",
      "    population_datasets -- data that contains observed frequencies to measure; condition column required\n",
      "    condition -- the column out of the datasets provided that will be measured in the test\n",
      "    alpha -- level of statistical significance\n",
      "    critical_value = chi-square critical value (see notes for details)\n",
      "    \n",
      "    Other\n",
      "    -----------------------\n",
      "    Default critical value based on alpha level and 1 degree of freedom and the table: \n",
      "        https://faculty.elgin.edu/dkernler/statistics/ch09/images/chi-square-table.gif\n",
      "    More information about the test here: \n",
      "        http://stattrek.com/chi-square-test/homogeneity.aspx?Tutorial=AP\n",
      "    \n"
     ]
    }
   ],
   "source": [
    "print ChiSquareTestOfHomogeneity.__doc__"
   ]
  },
  {
   "cell_type": "code",
   "execution_count": 48,
   "metadata": {
    "collapsed": false
   },
   "outputs": [
    {
     "ename": "NameError",
     "evalue": "name 'Storer' is not defined",
     "output_type": "error",
     "traceback": [
      "\u001b[0;31m---------------------------------------------------------------------------\u001b[0m",
      "\u001b[0;31mNameError\u001b[0m                                 Traceback (most recent call last)",
      "\u001b[0;32m<ipython-input-48-ac0550d8e238>\u001b[0m in \u001b[0;36m<module>\u001b[0;34m()\u001b[0m\n\u001b[0;32m----> 1\u001b[0;31m \u001b[0;32mclass\u001b[0m \u001b[0mKeeper\u001b[0m\u001b[0;34m(\u001b[0m\u001b[0mStorer\u001b[0m\u001b[0;34m)\u001b[0m\u001b[0;34m:\u001b[0m\u001b[0;34m\u001b[0m\u001b[0m\n\u001b[0m\u001b[1;32m      2\u001b[0m \u001b[0;34m\u001b[0m\u001b[0m\n\u001b[1;32m      3\u001b[0m     \"\"\"\n\u001b[1;32m      4\u001b[0m     \u001b[0mKeep\u001b[0m \u001b[0mdata\u001b[0m \u001b[0mfresher\u001b[0m \u001b[0mlonger\u001b[0m\u001b[0;34m.\u001b[0m\u001b[0;34m\u001b[0m\u001b[0m\n\u001b[1;32m      5\u001b[0m \u001b[0;34m\u001b[0m\u001b[0m\n",
      "\u001b[0;31mNameError\u001b[0m: name 'Storer' is not defined"
     ]
    }
   ],
   "source": []
  },
  {
   "cell_type": "code",
   "execution_count": null,
   "metadata": {
    "collapsed": true
   },
   "outputs": [],
   "source": []
  }
 ],
 "metadata": {
  "anaconda-cloud": {},
  "kernelspec": {
   "display_name": "Python [default]",
   "language": "python",
   "name": "python2"
  },
  "language_info": {
   "codemirror_mode": {
    "name": "ipython",
    "version": 2
   },
   "file_extension": ".py",
   "mimetype": "text/x-python",
   "name": "python",
   "nbconvert_exporter": "python",
   "pygments_lexer": "ipython2",
   "version": "2.7.12"
  }
 },
 "nbformat": 4,
 "nbformat_minor": 1
}
