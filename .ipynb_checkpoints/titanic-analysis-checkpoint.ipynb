{
 "cells": [
  {
   "cell_type": "code",
   "execution_count": 1,
   "metadata": {
    "collapsed": false
   },
   "outputs": [
    {
     "name": "stderr",
     "output_type": "stream",
     "text": [
      "/Users/asiega/anaconda/lib/python2.7/site-packages/matplotlib/font_manager.py:273: UserWarning: Matplotlib is building the font cache using fc-list. This may take a moment.\n",
      "  warnings.warn('Matplotlib is building the font cache using fc-list. This may take a moment.')\n"
     ]
    }
   ],
   "source": [
    "import pandas as pd\n",
    "import numpy as np\n",
    "import matplotlib.pyplot as plt\n",
    "import seaborn as sns\n",
    "import pdb\n",
    "%matplotlib inline"
   ]
  },
  {
   "cell_type": "markdown",
   "metadata": {},
   "source": [
    "# Data wrangling\n",
    "---\n",
    "\n",
    "#### VARIABLE DESCRIPTIONS:\n",
    "\n",
    "column | description\n",
    "------------ | -------------\n",
    "survival |Survival (0 = No; 1 = Yes)\n",
    "pclass | Passenger Class (1 = 1st; 2 = 2nd; 3 = 3rd)\n",
    "name  | Name\n",
    "sex  |  Sex\n",
    "age  | Age\n",
    "sibsp | Number of Siblings/Spouses Aboard\n",
    "parch | Number of Parents/Children Aboard\n",
    "ticket | Ticket Number\n",
    "fare | Passenger Fare\n",
    "cabin | Cabin\n",
    "embarked | Port of Embarkation (C = Cherbourg; Q = Queenstown; S = Southampton)\n",
    "\n",
    "#### SPECIAL NOTES:\n",
    "- Pclass is a proxy for socio-economic status (SES)\n",
    "    - 1st ~ Upper; 2nd ~ Middle; 3rd ~ Lower\n",
    "\n",
    "- Age is in Years; Fractional if Age less than One (1)\n",
    "    - If the Age is Estimated, it is in the form xx.5\n",
    "\n",
    "With respect to the family relation variables (i.e. sibsp and parch)\n",
    "some relations were ignored.  The following are the definitions used\n",
    "for sibsp and parch.\n",
    "\n",
    "    Sibling:  Brother, Sister, Stepbrother, or Stepsister of Passenger Aboard Titanic\n",
    "    Spouse:   Husband or Wife of Passenger Aboard Titanic (Mistresses and Fiances Ignored)\n",
    "    Parent:   Mother or Father of Passenger Aboard Titanic\n",
    "    Child:    Son, Daughter, Stepson, or Stepdaughter of Passenger Aboard Titanic\n",
    "\n",
    "Other family relatives excluded from this study include cousins,\n",
    "nephews/nieces, aunts/uncles, and in-laws.  Some children travelled\n",
    "only with a nanny, therefore parch=0 for them.  As well, some\n",
    "travelled with very close friends or neighbors in a village, however,\n",
    "the definitions do not support such relations."
   ]
  },
  {
   "cell_type": "code",
   "execution_count": 2,
   "metadata": {
    "collapsed": false,
    "scrolled": false
   },
   "outputs": [
    {
     "data": {
      "text/html": [
       "<div>\n",
       "<table border=\"1\" class=\"dataframe\">\n",
       "  <thead>\n",
       "    <tr style=\"text-align: right;\">\n",
       "      <th></th>\n",
       "      <th>PassengerId</th>\n",
       "      <th>Survived</th>\n",
       "      <th>Pclass</th>\n",
       "      <th>Name</th>\n",
       "      <th>Sex</th>\n",
       "      <th>Age</th>\n",
       "      <th>SibSp</th>\n",
       "      <th>Parch</th>\n",
       "      <th>Ticket</th>\n",
       "      <th>Fare</th>\n",
       "      <th>Cabin</th>\n",
       "      <th>Embarked</th>\n",
       "    </tr>\n",
       "  </thead>\n",
       "  <tbody>\n",
       "    <tr>\n",
       "      <th>0</th>\n",
       "      <td>1</td>\n",
       "      <td>0</td>\n",
       "      <td>3</td>\n",
       "      <td>Braund, Mr. Owen Harris</td>\n",
       "      <td>male</td>\n",
       "      <td>22.0</td>\n",
       "      <td>1</td>\n",
       "      <td>0</td>\n",
       "      <td>A/5 21171</td>\n",
       "      <td>7.2500</td>\n",
       "      <td>NaN</td>\n",
       "      <td>S</td>\n",
       "    </tr>\n",
       "    <tr>\n",
       "      <th>1</th>\n",
       "      <td>2</td>\n",
       "      <td>1</td>\n",
       "      <td>1</td>\n",
       "      <td>Cumings, Mrs. John Bradley (Florence Briggs Th...</td>\n",
       "      <td>female</td>\n",
       "      <td>38.0</td>\n",
       "      <td>1</td>\n",
       "      <td>0</td>\n",
       "      <td>PC 17599</td>\n",
       "      <td>71.2833</td>\n",
       "      <td>C85</td>\n",
       "      <td>C</td>\n",
       "    </tr>\n",
       "    <tr>\n",
       "      <th>2</th>\n",
       "      <td>3</td>\n",
       "      <td>1</td>\n",
       "      <td>3</td>\n",
       "      <td>Heikkinen, Miss. Laina</td>\n",
       "      <td>female</td>\n",
       "      <td>26.0</td>\n",
       "      <td>0</td>\n",
       "      <td>0</td>\n",
       "      <td>STON/O2. 3101282</td>\n",
       "      <td>7.9250</td>\n",
       "      <td>NaN</td>\n",
       "      <td>S</td>\n",
       "    </tr>\n",
       "    <tr>\n",
       "      <th>3</th>\n",
       "      <td>4</td>\n",
       "      <td>1</td>\n",
       "      <td>1</td>\n",
       "      <td>Futrelle, Mrs. Jacques Heath (Lily May Peel)</td>\n",
       "      <td>female</td>\n",
       "      <td>35.0</td>\n",
       "      <td>1</td>\n",
       "      <td>0</td>\n",
       "      <td>113803</td>\n",
       "      <td>53.1000</td>\n",
       "      <td>C123</td>\n",
       "      <td>S</td>\n",
       "    </tr>\n",
       "    <tr>\n",
       "      <th>4</th>\n",
       "      <td>5</td>\n",
       "      <td>0</td>\n",
       "      <td>3</td>\n",
       "      <td>Allen, Mr. William Henry</td>\n",
       "      <td>male</td>\n",
       "      <td>35.0</td>\n",
       "      <td>0</td>\n",
       "      <td>0</td>\n",
       "      <td>373450</td>\n",
       "      <td>8.0500</td>\n",
       "      <td>NaN</td>\n",
       "      <td>S</td>\n",
       "    </tr>\n",
       "  </tbody>\n",
       "</table>\n",
       "</div>"
      ],
      "text/plain": [
       "   PassengerId  Survived  Pclass  \\\n",
       "0            1         0       3   \n",
       "1            2         1       1   \n",
       "2            3         1       3   \n",
       "3            4         1       1   \n",
       "4            5         0       3   \n",
       "\n",
       "                                                Name     Sex   Age  SibSp  \\\n",
       "0                            Braund, Mr. Owen Harris    male  22.0      1   \n",
       "1  Cumings, Mrs. John Bradley (Florence Briggs Th...  female  38.0      1   \n",
       "2                             Heikkinen, Miss. Laina  female  26.0      0   \n",
       "3       Futrelle, Mrs. Jacques Heath (Lily May Peel)  female  35.0      1   \n",
       "4                           Allen, Mr. William Henry    male  35.0      0   \n",
       "\n",
       "   Parch            Ticket     Fare Cabin Embarked  \n",
       "0      0         A/5 21171   7.2500   NaN        S  \n",
       "1      0          PC 17599  71.2833   C85        C  \n",
       "2      0  STON/O2. 3101282   7.9250   NaN        S  \n",
       "3      0            113803  53.1000  C123        S  \n",
       "4      0            373450   8.0500   NaN        S  "
      ]
     },
     "execution_count": 2,
     "metadata": {},
     "output_type": "execute_result"
    }
   ],
   "source": [
    "raw_data = pd.read_csv(\"./titanic.csv\")\n",
    "raw_data.head()"
   ]
  },
  {
   "cell_type": "markdown",
   "metadata": {},
   "source": [
    "### Sanitize raw Titanic data\n",
    "\n",
    "- Split name column into relevant parts: last name, first name, and title"
   ]
  },
  {
   "cell_type": "code",
   "execution_count": 3,
   "metadata": {
    "collapsed": false
   },
   "outputs": [],
   "source": [
    "def split_names(name): \n",
    "    last, first = name.split(\", \") # extract last name from name column value\n",
    "    title_and_first = first.split(\". \") # separate title and first name\n",
    "    if len(title_and_first) == 2:\n",
    "        return last, title_and_first[1], title_and_first[0]\n",
    "    else:\n",
    "        return last, \" \".join(title_and_first[1:]), title_and_first[0] # account for rw 513 with middle initial\n",
    "    \n",
    "split_names = raw_data[\"Name\"].apply(lambda x: pd.Series(split_names(x))).rename(columns={2: \"Title\", 1: \"First\", 0: \"Last\"})\n",
    "sanitized_data = pd.concat([split_names, raw_data[[\"Survived\", \"Pclass\", \"Sex\", \"Age\", \"SibSp\", \"Parch\", \"Ticket\", \"Fare\", \"Cabin\", \"Embarked\"]]], axis=1)"
   ]
  },
  {
   "cell_type": "markdown",
   "metadata": {},
   "source": [
    "- Replace \"Embarked\" abbreviations with full port name"
   ]
  },
  {
   "cell_type": "code",
   "execution_count": 67,
   "metadata": {
    "collapsed": false
   },
   "outputs": [],
   "source": [
    "def check_col_values(col): # use to confirm lack of unexpected variation in data\n",
    "    return sanitized_data[col].unique() \n",
    "\n",
    "def get_full_port(port):\n",
    "    if port == \"C\":\n",
    "        return \"Cherbourg\"\n",
    "    elif port == \"Q\":\n",
    "        return \"Queenstown\"\n",
    "    elif port == \"S\":\n",
    "        return \"Southhampton\"\n",
    "    else:\n",
    "        return port # just in case cell is run after initial changes applied\n",
    "    \n",
    "check_col_values(\"Embarked\") # confirms only Q, S, C in dataset\n",
    "sanitized_data[\"Embarked\"] = sanitized_data[\"Embarked\"].apply(get_full_port)"
   ]
  },
  {
   "cell_type": "markdown",
   "metadata": {},
   "source": [
    "- Replace \"Pclass\" abbreviations with full class name"
   ]
  },
  {
   "cell_type": "code",
   "execution_count": 5,
   "metadata": {
    "collapsed": false
   },
   "outputs": [],
   "source": [
    "def get_full_class(pclass):\n",
    "    if pclass == 1:\n",
    "        return \"Upper\"\n",
    "    elif pclass == 2:\n",
    "        return \"Middle\"\n",
    "    elif pclass == 3:\n",
    "        return \"Lower\"\n",
    "    else:\n",
    "        return pclass # just in case cell is run after initial changes applied\n",
    "    \n",
    "check_col_values(\"Pclass\") # confirms only 1, 2, 3 in dataset\n",
    "sanitized_data[\"Pclass\"] = sanitized_data[\"Pclass\"].apply(get_full_class)"
   ]
  },
  {
   "cell_type": "code",
   "execution_count": 359,
   "metadata": {
    "collapsed": false,
    "scrolled": true
   },
   "outputs": [
    {
     "data": {
      "text/html": [
       "<div>\n",
       "<table border=\"1\" class=\"dataframe\">\n",
       "  <thead>\n",
       "    <tr style=\"text-align: right;\">\n",
       "      <th></th>\n",
       "      <th>Last</th>\n",
       "      <th>First</th>\n",
       "      <th>Title</th>\n",
       "      <th>Survived</th>\n",
       "      <th>Pclass</th>\n",
       "      <th>Sex</th>\n",
       "      <th>Age</th>\n",
       "      <th>SibSp</th>\n",
       "      <th>Parch</th>\n",
       "      <th>Ticket</th>\n",
       "      <th>Fare</th>\n",
       "      <th>Cabin</th>\n",
       "      <th>Embarked</th>\n",
       "    </tr>\n",
       "  </thead>\n",
       "  <tbody>\n",
       "    <tr>\n",
       "      <th>0</th>\n",
       "      <td>Braund</td>\n",
       "      <td>Owen Harris</td>\n",
       "      <td>Mr</td>\n",
       "      <td>0</td>\n",
       "      <td>Lower</td>\n",
       "      <td>male</td>\n",
       "      <td>22.0</td>\n",
       "      <td>1</td>\n",
       "      <td>0</td>\n",
       "      <td>A/5 21171</td>\n",
       "      <td>7.2500</td>\n",
       "      <td>NaN</td>\n",
       "      <td>Southhampton</td>\n",
       "    </tr>\n",
       "    <tr>\n",
       "      <th>1</th>\n",
       "      <td>Cumings</td>\n",
       "      <td>John Bradley (Florence Briggs Thayer)</td>\n",
       "      <td>Mrs</td>\n",
       "      <td>1</td>\n",
       "      <td>Upper</td>\n",
       "      <td>female</td>\n",
       "      <td>38.0</td>\n",
       "      <td>1</td>\n",
       "      <td>0</td>\n",
       "      <td>PC 17599</td>\n",
       "      <td>71.2833</td>\n",
       "      <td>C85</td>\n",
       "      <td>Cherbourg</td>\n",
       "    </tr>\n",
       "    <tr>\n",
       "      <th>2</th>\n",
       "      <td>Heikkinen</td>\n",
       "      <td>Laina</td>\n",
       "      <td>Miss</td>\n",
       "      <td>1</td>\n",
       "      <td>Lower</td>\n",
       "      <td>female</td>\n",
       "      <td>26.0</td>\n",
       "      <td>0</td>\n",
       "      <td>0</td>\n",
       "      <td>STON/O2. 3101282</td>\n",
       "      <td>7.9250</td>\n",
       "      <td>NaN</td>\n",
       "      <td>Southhampton</td>\n",
       "    </tr>\n",
       "    <tr>\n",
       "      <th>3</th>\n",
       "      <td>Futrelle</td>\n",
       "      <td>Jacques Heath (Lily May Peel)</td>\n",
       "      <td>Mrs</td>\n",
       "      <td>1</td>\n",
       "      <td>Upper</td>\n",
       "      <td>female</td>\n",
       "      <td>35.0</td>\n",
       "      <td>1</td>\n",
       "      <td>0</td>\n",
       "      <td>113803</td>\n",
       "      <td>53.1000</td>\n",
       "      <td>C123</td>\n",
       "      <td>Southhampton</td>\n",
       "    </tr>\n",
       "    <tr>\n",
       "      <th>4</th>\n",
       "      <td>Allen</td>\n",
       "      <td>William Henry</td>\n",
       "      <td>Mr</td>\n",
       "      <td>0</td>\n",
       "      <td>Lower</td>\n",
       "      <td>male</td>\n",
       "      <td>35.0</td>\n",
       "      <td>0</td>\n",
       "      <td>0</td>\n",
       "      <td>373450</td>\n",
       "      <td>8.0500</td>\n",
       "      <td>NaN</td>\n",
       "      <td>Southhampton</td>\n",
       "    </tr>\n",
       "  </tbody>\n",
       "</table>\n",
       "</div>"
      ],
      "text/plain": [
       "        Last                                  First Title  Survived Pclass  \\\n",
       "0     Braund                            Owen Harris    Mr         0  Lower   \n",
       "1    Cumings  John Bradley (Florence Briggs Thayer)   Mrs         1  Upper   \n",
       "2  Heikkinen                                  Laina  Miss         1  Lower   \n",
       "3   Futrelle          Jacques Heath (Lily May Peel)   Mrs         1  Upper   \n",
       "4      Allen                          William Henry    Mr         0  Lower   \n",
       "\n",
       "      Sex   Age  SibSp  Parch            Ticket     Fare Cabin      Embarked  \n",
       "0    male  22.0      1      0         A/5 21171   7.2500   NaN  Southhampton  \n",
       "1  female  38.0      1      0          PC 17599  71.2833   C85     Cherbourg  \n",
       "2  female  26.0      0      0  STON/O2. 3101282   7.9250   NaN  Southhampton  \n",
       "3  female  35.0      1      0            113803  53.1000  C123  Southhampton  \n",
       "4    male  35.0      0      0            373450   8.0500   NaN  Southhampton  "
      ]
     },
     "execution_count": 359,
     "metadata": {},
     "output_type": "execute_result"
    }
   ],
   "source": [
    "sanitized_data.head()"
   ]
  },
  {
   "cell_type": "markdown",
   "metadata": {},
   "source": [
    "\n",
    "\n",
    "# Analysis Questions\n",
    "\n",
    "---\n",
    "\n",
    "### Are there any differences in the price of tickets between passengers who embarked at the same port and were in the same class? \n",
    "- If so, by how much do they differ, fare-wise?"
   ]
  },
  {
   "cell_type": "code",
   "execution_count": 7,
   "metadata": {
    "collapsed": false
   },
   "outputs": [
    {
     "name": "stdout",
     "output_type": "stream",
     "text": [
      "!: fares varied substantially within each class of ticket at each port\n"
     ]
    },
    {
     "data": {
      "text/html": [
       "<div>\n",
       "<table border=\"1\" class=\"dataframe\">\n",
       "  <thead>\n",
       "    <tr style=\"text-align: right;\">\n",
       "      <th></th>\n",
       "      <th></th>\n",
       "      <th>Number of Fares</th>\n",
       "      <th>Number of Unique Fares</th>\n",
       "    </tr>\n",
       "    <tr>\n",
       "      <th>Pclass</th>\n",
       "      <th>Embarked</th>\n",
       "      <th></th>\n",
       "      <th></th>\n",
       "    </tr>\n",
       "  </thead>\n",
       "  <tbody>\n",
       "    <tr>\n",
       "      <th rowspan=\"3\" valign=\"top\">Lower</th>\n",
       "      <th>Cherbourg</th>\n",
       "      <td>66</td>\n",
       "      <td>18</td>\n",
       "    </tr>\n",
       "    <tr>\n",
       "      <th>Queenstown</th>\n",
       "      <td>72</td>\n",
       "      <td>20</td>\n",
       "    </tr>\n",
       "    <tr>\n",
       "      <th>Southhampton</th>\n",
       "      <td>353</td>\n",
       "      <td>85</td>\n",
       "    </tr>\n",
       "    <tr>\n",
       "      <th rowspan=\"3\" valign=\"top\">Middle</th>\n",
       "      <th>Cherbourg</th>\n",
       "      <td>17</td>\n",
       "      <td>12</td>\n",
       "    </tr>\n",
       "    <tr>\n",
       "      <th>Queenstown</th>\n",
       "      <td>3</td>\n",
       "      <td>1</td>\n",
       "    </tr>\n",
       "    <tr>\n",
       "      <th>Southhampton</th>\n",
       "      <td>164</td>\n",
       "      <td>29</td>\n",
       "    </tr>\n",
       "    <tr>\n",
       "      <th rowspan=\"3\" valign=\"top\">Upper</th>\n",
       "      <th>Cherbourg</th>\n",
       "      <td>85</td>\n",
       "      <td>45</td>\n",
       "    </tr>\n",
       "    <tr>\n",
       "      <th>Queenstown</th>\n",
       "      <td>2</td>\n",
       "      <td>1</td>\n",
       "    </tr>\n",
       "    <tr>\n",
       "      <th>Southhampton</th>\n",
       "      <td>127</td>\n",
       "      <td>54</td>\n",
       "    </tr>\n",
       "  </tbody>\n",
       "</table>\n",
       "</div>"
      ],
      "text/plain": [
       "                     Number of Fares  Number of Unique Fares\n",
       "Pclass Embarked                                             \n",
       "Lower  Cherbourg                  66                      18\n",
       "       Queenstown                 72                      20\n",
       "       Southhampton              353                      85\n",
       "Middle Cherbourg                  17                      12\n",
       "       Queenstown                  3                       1\n",
       "       Southhampton              164                      29\n",
       "Upper  Cherbourg                  85                      45\n",
       "       Queenstown                  2                       1\n",
       "       Southhampton              127                      54"
      ]
     },
     "execution_count": 7,
     "metadata": {},
     "output_type": "execute_result"
    }
   ],
   "source": [
    "fare_subset = sanitized_data[[\"Pclass\", \"Embarked\", \"Fare\"]]\n",
    "\n",
    "print \"!: fares varied substantially within each class of ticket at each port\"\n",
    "num = fare_subset.groupby([\"Pclass\", \"Embarked\"])[\"Fare\"].count().rename(index=\"Number of Fares\")\n",
    "num_unique = fare_subset.groupby([\"Pclass\", \"Embarked\"])[\"Fare\"].nunique().rename(index=\"Number of Unique Fares\")\n",
    "pd.concat([num, num_unique], axis=1)"
   ]
  },
  {
   "cell_type": "code",
   "execution_count": 8,
   "metadata": {
    "collapsed": false,
    "scrolled": true
   },
   "outputs": [
    {
     "name": "stdout",
     "output_type": "stream",
     "text": [
      "!: average fare was highest at Cherbourg for 1st, 2nd Pclass, Southhampton for 3rd Pclass\n"
     ]
    },
    {
     "data": {
      "text/html": [
       "<div>\n",
       "<table border=\"1\" class=\"dataframe\">\n",
       "  <thead>\n",
       "    <tr style=\"text-align: right;\">\n",
       "      <th></th>\n",
       "      <th></th>\n",
       "      <th>Fare</th>\n",
       "    </tr>\n",
       "    <tr>\n",
       "      <th>Pclass</th>\n",
       "      <th>Embarked</th>\n",
       "      <th></th>\n",
       "    </tr>\n",
       "  </thead>\n",
       "  <tbody>\n",
       "    <tr>\n",
       "      <th rowspan=\"3\" valign=\"top\">Lower</th>\n",
       "      <th>Cherbourg</th>\n",
       "      <td>11.214083</td>\n",
       "    </tr>\n",
       "    <tr>\n",
       "      <th>Queenstown</th>\n",
       "      <td>11.183393</td>\n",
       "    </tr>\n",
       "    <tr>\n",
       "      <th>Southhampton</th>\n",
       "      <td>14.644083</td>\n",
       "    </tr>\n",
       "    <tr>\n",
       "      <th rowspan=\"3\" valign=\"top\">Middle</th>\n",
       "      <th>Cherbourg</th>\n",
       "      <td>25.358335</td>\n",
       "    </tr>\n",
       "    <tr>\n",
       "      <th>Queenstown</th>\n",
       "      <td>12.350000</td>\n",
       "    </tr>\n",
       "    <tr>\n",
       "      <th>Southhampton</th>\n",
       "      <td>20.327439</td>\n",
       "    </tr>\n",
       "    <tr>\n",
       "      <th rowspan=\"3\" valign=\"top\">Upper</th>\n",
       "      <th>Cherbourg</th>\n",
       "      <td>104.718529</td>\n",
       "    </tr>\n",
       "    <tr>\n",
       "      <th>Queenstown</th>\n",
       "      <td>90.000000</td>\n",
       "    </tr>\n",
       "    <tr>\n",
       "      <th>Southhampton</th>\n",
       "      <td>70.364862</td>\n",
       "    </tr>\n",
       "  </tbody>\n",
       "</table>\n",
       "</div>"
      ],
      "text/plain": [
       "                           Fare\n",
       "Pclass Embarked                \n",
       "Lower  Cherbourg      11.214083\n",
       "       Queenstown     11.183393\n",
       "       Southhampton   14.644083\n",
       "Middle Cherbourg      25.358335\n",
       "       Queenstown     12.350000\n",
       "       Southhampton   20.327439\n",
       "Upper  Cherbourg     104.718529\n",
       "       Queenstown     90.000000\n",
       "       Southhampton   70.364862"
      ]
     },
     "execution_count": 8,
     "metadata": {},
     "output_type": "execute_result"
    }
   ],
   "source": [
    "print \"!: average fare was highest at Cherbourg for 1st, 2nd Pclass, Southhampton for 3rd Pclass\"\n",
    "fare_subset.groupby([\"Pclass\", \"Embarked\"]).mean() "
   ]
  },
  {
   "cell_type": "code",
   "execution_count": 124,
   "metadata": {
    "collapsed": false
   },
   "outputs": [
    {
     "name": "stdout",
     "output_type": "stream",
     "text": [
      "!: plot depicting distributions of fares based on port of embarkation\n"
     ]
    },
    {
     "data": {
      "text/plain": [
       "<matplotlib.text.Text at 0x11ca5a290>"
      ]
     },
     "execution_count": 124,
     "metadata": {},
     "output_type": "execute_result"
    },
    {
     "data": {
      "image/png": "[encoded data removed]",
      "text/plain": [
       "<matplotlib.figure.Figure at 0x11c8a3fd0>"
      ]
     },
     "metadata": {},
     "output_type": "display_data"
    }
   ],
   "source": [
    "print \"!: plot depicting distributions of fares based on port of embarkation\"\n",
    "sns.factorplot(data=fare_subset, x=\"Embarked\", y=\"Fare\", hue=\"Pclass\", kind=\"box\", size=6, hue_order=[\"Upper\", \"Middle\", \"Lower\"])\n",
    "plt.title(\"Fares by Port of Embarkation\")"
   ]
  },
  {
   "cell_type": "markdown",
   "metadata": {},
   "source": [
    "In Southhampton and Cherbourg, upper class tickets exhibited the most notable behavior. Not only were **prices substantially higher for upper class tickets** than for lower or middle class tickets, but the fares also **varied the most** from person to person. \n",
    "\n",
    "Between Southhampton and Cherbourg, upper class customers paid more on average to leave from Cherbourg. One passenger paid more than 500 dollars for their ticket, more than **5 standard deviations away from the mean of 104.72 dollars** for that port.\n"
   ]
  },
  {
   "cell_type": "code",
   "execution_count": 364,
   "metadata": {
    "collapsed": false
   },
   "outputs": [
    {
     "name": "stdout",
     "output_type": "stream",
     "text": [
      "!: stds max value is away from the mean\n"
     ]
    },
    {
     "data": {
      "text/plain": [
       "5.3910012377957299"
      ]
     },
     "execution_count": 364,
     "metadata": {},
     "output_type": "execute_result"
    }
   ],
   "source": [
    "cher_tickets = fare_subset[fare_subset[\"Embarked\"] == \"Cherbourg\"]\n",
    "\n",
    "# calculate how far away from average the max ticket price for Cherbourg was\n",
    "print \"!: stds max value is away from the mean\"\n",
    "(max(cher_tickets.Fare) - cher_tickets.Fare.mean())/cher_tickets.std()[0] "
   ]
  },
  {
   "cell_type": "markdown",
   "metadata": {},
   "source": [
    "The plot above shows ticket prices at or close to 0 dollars. Upon further investigation, 2.33% of fares from Southhampton were free.\n",
    "*(Unclear as to whether this indicates free fare or lack of fare data, as most other near-zero values belong to lower class tickets.)*"
   ]
  },
  {
   "cell_type": "code",
   "execution_count": 11,
   "metadata": {
    "collapsed": false
   },
   "outputs": [
    {
     "data": {
      "text/html": [
       "<div>\n",
       "<table border=\"1\" class=\"dataframe\">\n",
       "  <thead>\n",
       "    <tr style=\"text-align: right;\">\n",
       "      <th></th>\n",
       "      <th></th>\n",
       "      <th>Fare</th>\n",
       "    </tr>\n",
       "    <tr>\n",
       "      <th>Pclass</th>\n",
       "      <th>Embarked</th>\n",
       "      <th></th>\n",
       "    </tr>\n",
       "  </thead>\n",
       "  <tbody>\n",
       "    <tr>\n",
       "      <th>Lower</th>\n",
       "      <th>Southhampton</th>\n",
       "      <td>4</td>\n",
       "    </tr>\n",
       "    <tr>\n",
       "      <th>Middle</th>\n",
       "      <th>Southhampton</th>\n",
       "      <td>6</td>\n",
       "    </tr>\n",
       "    <tr>\n",
       "      <th>Upper</th>\n",
       "      <th>Southhampton</th>\n",
       "      <td>5</td>\n",
       "    </tr>\n",
       "  </tbody>\n",
       "</table>\n",
       "</div>"
      ],
      "text/plain": [
       "                     Fare\n",
       "Pclass Embarked          \n",
       "Lower  Southhampton     4\n",
       "Middle Southhampton     6\n",
       "Upper  Southhampton     5"
      ]
     },
     "execution_count": 11,
     "metadata": {},
     "output_type": "execute_result"
    }
   ],
   "source": [
    "free_fares = fare_subset[fare_subset[\"Fare\"] == 0]\n",
    "\n",
    "# percentage denominator subsetted by Southhampton because grouppby shows only free tickets were from Southhampton\n",
    "perc_free = float(len(free_fares))/len(fare_subset[fare_subset[\"Embarked\"] == \"Southhampton\"])\n",
    "\n",
    "free_fares.groupby([\"Pclass\", \"Embarked\"]).count()"
   ]
  },
  {
   "cell_type": "markdown",
   "metadata": {},
   "source": [
    "---\n",
    "\n",
    "### What is the relationship between passenger class, gender, child status (age), and survival?\n",
    "Two goals:\n",
    "    1. Prove the \"women and children first\" mantra.\n",
    "    2. Find Jack & Rose in the data.\n",
    "    \n",
    "Definitions:\n",
    "    - Child: a passenger below the age of 16.\n",
    "    - Woman: a female passenger at or above 16 years old.\n",
    "    - Man: a male passenger at or above 16 years old.\n",
    "\n",
    "*Note: passengers without an age are dropped from the dataset, because it's unclear as to whether they are adults or children. Though title may be an indicator of adult status (i.e. marriage), there are 14- and 15-year-old \"Mrs\" in the data and it would produce female bias in the data, so I'm uncomfortable using that piece of information to determine adulthood.*"
   ]
  },
  {
   "cell_type": "code",
   "execution_count": 365,
   "metadata": {
    "collapsed": false,
    "scrolled": true
   },
   "outputs": [
    {
     "name": "stderr",
     "output_type": "stream",
     "text": [
      "/Users/asiega/anaconda/lib/python2.7/site-packages/ipykernel/__main__.py:1: UserWarning: Boolean Series key will be reindexed to match DataFrame index.\n",
      "  if __name__ == '__main__':\n"
     ]
    },
    {
     "data": {
      "text/html": [
       "<div>\n",
       "<table border=\"1\" class=\"dataframe\">\n",
       "  <thead>\n",
       "    <tr style=\"text-align: right;\">\n",
       "      <th></th>\n",
       "      <th>Age</th>\n",
       "      <th>Title</th>\n",
       "    </tr>\n",
       "  </thead>\n",
       "  <tbody>\n",
       "    <tr>\n",
       "      <th>9</th>\n",
       "      <td>14.0</td>\n",
       "      <td>Mrs</td>\n",
       "    </tr>\n",
       "    <tr>\n",
       "      <th>830</th>\n",
       "      <td>15.0</td>\n",
       "      <td>Mrs</td>\n",
       "    </tr>\n",
       "    <tr>\n",
       "      <th>307</th>\n",
       "      <td>17.0</td>\n",
       "      <td>Mrs</td>\n",
       "    </tr>\n",
       "    <tr>\n",
       "      <th>781</th>\n",
       "      <td>17.0</td>\n",
       "      <td>Mrs</td>\n",
       "    </tr>\n",
       "    <tr>\n",
       "      <th>49</th>\n",
       "      <td>18.0</td>\n",
       "      <td>Mrs</td>\n",
       "    </tr>\n",
       "  </tbody>\n",
       "</table>\n",
       "</div>"
      ],
      "text/plain": [
       "      Age Title\n",
       "9    14.0   Mrs\n",
       "830  15.0   Mrs\n",
       "307  17.0   Mrs\n",
       "781  17.0   Mrs\n",
       "49   18.0   Mrs"
      ]
     },
     "execution_count": 365,
     "metadata": {},
     "output_type": "execute_result"
    }
   ],
   "source": [
    "sanitized_data[[\"Age\", \"Title\"]].sort_values([\"Age\", \"Title\"])[(sanitized_data[\"Age\"] > 13) & (sanitized_data[\"Title\"] == \"Mrs\")].head()"
   ]
  },
  {
   "cell_type": "code",
   "execution_count": 12,
   "metadata": {
    "collapsed": false
   },
   "outputs": [],
   "source": [
    "survival_subset = sanitized_data[[\"Pclass\", \"Sex\", \"Age\", \"Survived\"]]"
   ]
  },
  {
   "cell_type": "code",
   "execution_count": 37,
   "metadata": {
    "collapsed": false
   },
   "outputs": [],
   "source": [
    "# establishing women and children subsets based on stated definitions\n",
    " \n",
    "all_with_age = survival_subset[pd.notnull(survival_subset[\"Age\"])] # dropping all rows with no age data\n",
    "children = all_with_age[all_with_age[\"Age\"] < 16] # subsetting by <16 years old\n",
    "\n",
    "def generate_gender_data(sex=\"female\"):\n",
    "    subset = all_with_age[all_with_age[\"Sex\"] == sex]\n",
    "    return subset[~subset.isin(children)].dropna() # get adults by dropping all rows that are in children's table\n",
    "\n",
    "women = generate_gender_data()\n",
    "men = generate_gender_data(sex=\"male\")"
   ]
  },
  {
   "cell_type": "code",
   "execution_count": 129,
   "metadata": {
    "collapsed": false
   },
   "outputs": [
    {
     "name": "stdout",
     "output_type": "stream",
     "text": [
      "!: Shows survival counts and rates across passenger class\n"
     ]
    },
    {
     "data": {
      "text/html": [
       "<div>\n",
       "<table border=\"1\" class=\"dataframe\">\n",
       "  <thead>\n",
       "    <tr style=\"text-align: right;\">\n",
       "      <th></th>\n",
       "      <th>Men</th>\n",
       "      <th>% Men</th>\n",
       "      <th>Women</th>\n",
       "      <th>% Women</th>\n",
       "      <th>Children</th>\n",
       "      <th>% Children</th>\n",
       "      <th>Total</th>\n",
       "      <th>% Total</th>\n",
       "    </tr>\n",
       "    <tr>\n",
       "      <th>Pclass</th>\n",
       "      <th></th>\n",
       "      <th></th>\n",
       "      <th></th>\n",
       "      <th></th>\n",
       "      <th></th>\n",
       "      <th></th>\n",
       "      <th></th>\n",
       "      <th></th>\n",
       "    </tr>\n",
       "  </thead>\n",
       "  <tbody>\n",
       "    <tr>\n",
       "      <th>Lower</th>\n",
       "      <td>29.0</td>\n",
       "      <td>0.13</td>\n",
       "      <td>31.0</td>\n",
       "      <td>0.43</td>\n",
       "      <td>25</td>\n",
       "      <td>0.43</td>\n",
       "      <td>119</td>\n",
       "      <td>0.24</td>\n",
       "    </tr>\n",
       "    <tr>\n",
       "      <th>Middle</th>\n",
       "      <td>6.0</td>\n",
       "      <td>0.07</td>\n",
       "      <td>58.0</td>\n",
       "      <td>0.91</td>\n",
       "      <td>19</td>\n",
       "      <td>1.0</td>\n",
       "      <td>87</td>\n",
       "      <td>0.47</td>\n",
       "    </tr>\n",
       "    <tr>\n",
       "      <th>Upper</th>\n",
       "      <td>37.0</td>\n",
       "      <td>0.38</td>\n",
       "      <td>80.0</td>\n",
       "      <td>0.98</td>\n",
       "      <td>5</td>\n",
       "      <td>0.83</td>\n",
       "      <td>136</td>\n",
       "      <td>0.63</td>\n",
       "    </tr>\n",
       "  </tbody>\n",
       "</table>\n",
       "</div>"
      ],
      "text/plain": [
       "         Men % Men  Women % Women  Children % Children  Total % Total\n",
       "Pclass                                                               \n",
       "Lower   29.0  0.13   31.0    0.43        25       0.43    119    0.24\n",
       "Middle   6.0  0.07   58.0    0.91        19        1.0     87    0.47\n",
       "Upper   37.0  0.38   80.0    0.98         5       0.83    136    0.63"
      ]
     },
     "execution_count": 129,
     "metadata": {},
     "output_type": "execute_result"
    }
   ],
   "source": [
    "def calculate_survived(data, columns=[]):\n",
    "    survived = data.groupby(\"Pclass\")[\"Survived\"].sum().rename(index=columns[0]) # 1 represents survival, 0 not -- thus, summing wil produce number that survived\n",
    "    total = data.groupby(\"Pclass\")[\"Survived\"].count() # ignores survival outcome\n",
    "    perc_survived = (survived/total).apply(lambda x: str(round(x, 2))).rename(index=columns[1])\n",
    "    return pd.concat([survived, perc_survived], axis=1)\n",
    "    \n",
    "survival_rates = pd.concat([calculate_survived(men, columns=[\"Men\", \"% Men\"]),\n",
    "                            calculate_survived(women, columns=[\"Women\", \"% Women\"]),\n",
    "                            calculate_survived(children, columns=[\"Children\", \"% Children\"]), \n",
    "                           calculate_survived(survival_subset, columns=[\"Total\", \"% Total\"]),], axis=1)\n",
    "\n",
    "print \"!: Shows survival counts and rates across passenger class\"\n",
    "survival_rates"
   ]
  },
  {
   "cell_type": "code",
   "execution_count": 128,
   "metadata": {
    "collapsed": false
   },
   "outputs": [
    {
     "data": {
      "text/plain": [
       "<matplotlib.text.Text at 0x11d92e690>"
      ]
     },
     "execution_count": 128,
     "metadata": {},
     "output_type": "execute_result"
    },
    {
     "data": {
      "image/png": "[encoded data removed]",
      "text/plain": [
       "<matplotlib.figure.Figure at 0x11b61ba10>"
      ]
     },
     "metadata": {},
     "output_type": "display_data"
    }
   ],
   "source": [
    "# visualizing the rates of survival by passenger class and type\n",
    "\n",
    "survival_plot_data = pd.melt(survival_rates[[\"% Men\", \"% Women\", \"% Children\"]].reset_index(), id_vars=\"Pclass\")\n",
    "survival_plot_data[\"value\"] = survival_plot_data[\"value\"].apply(lambda x: float(x))\n",
    "survival_plot_data[\"variable\"] = survival_plot_data[\"variable\"].apply(lambda x: x.strip(\"% \"))\n",
    "surivial_plot_data = survival_plot_data.rename(columns={\"Pclass\": \"Passenger Class\", \"variable\": \"Passenger Type\", \"value\": \"Survival Rate\"})\n",
    "\n",
    "sns.factorplot(data=surivial_plot_data, x=\"Passenger Class\", y=\"Survival Rate\", hue=\"Passenger Type\", kind=\"bar\")\n",
    "plt.title(\"Survival Rates of Titanic Passengers\")"
   ]
  },
  {
   "cell_type": "markdown",
   "metadata": {},
   "source": [
    "This plot demonstrates that indeed **women and children survived the Titanic crash at a greater rate than their male counterparts** across the ship. In each type of passenger class, men survived at less than half (and in the case of the middle class, at substantially less than half) the rate of women and children. Of course, this is only evident for the sample provided (40% of the population).\n",
    "\n",
    "### Is the observed trend that women and children survived at higher rates than men statistically significant?\n",
    "\n",
    "A hypothesis test must be run to determine whether this trend -- observed in the sample -- can be extrapolated to the population. Two [chi-square tests of homogeneity](http://stattrek.com/chi-square-test/homogeneity.aspx?Tutorial=AP) will be run to account for the three variables. By choosing this test I am positing that the following assumptions are true:\n",
    "\n",
    "- the sampling method is simple random sampling\n",
    "- the variable under study is categorical\n",
    "- the expected frequency count for each cell of the table is at least 5\n",
    "\n",
    "Notes:\n",
    "- Significance level is 0.01\n",
    "- I'm testing solely for gender (see bolded text above, and null hypotheses below); thus, passenger class will not be relevant.\n",
    "\n",
    "** Test #1: Between women and men **\n",
    "\n",
    "* Null hypothesis: the proportion of survival for men is the same as the proportion of survival for women\n",
    "* Alternative hypothesis: the proportion of survival for men is different than the proportion of survival for women\n",
    "    \n",
    "** Test #2: Between children and men **\n",
    "\n",
    "* Null hypothesis: the proportion of survival for men is the same as the proportion of survival for children\n",
    "* Alternative hypothesis: the proportion of survival for men is different than the proportion of survival for children\n",
    "    \n"
   ]
  },
  {
   "cell_type": "code",
   "execution_count": 346,
   "metadata": {
    "collapsed": false
   },
   "outputs": [
    {
     "data": {
      "text/plain": [
       "(1, 6.635)"
      ]
     },
     "execution_count": 346,
     "metadata": {},
     "output_type": "execute_result"
    }
   ],
   "source": [
    "# Calculate degrees of freedom\n",
    "    # DF = (r - 1) * (c - 1)\n",
    "        #  r is the number of populations, and c is the number of levels for the categorical variable\n",
    "        \n",
    "# Find chi squared critical value\n",
    "    # table: https://faculty.elgin.edu/dkernler/statistics/ch09/images/chi-square-table.gif\n",
    "\n",
    "deg_free = (2 - 1) * (2 - 1)\n",
    "cs_crit = 6.635\n",
    "deg_free, cs_crit"
   ]
  },
  {
   "cell_type": "code",
   "execution_count": 352,
   "metadata": {
    "collapsed": false
   },
   "outputs": [],
   "source": [
    "# Create a class that will run a self-contained chi-square test of homogeneity\n",
    "    # instance will find, apply, and transform data based on population labels, i.e. women, children, or men\n",
    "\n",
    "class ChiSquareTestOfHomogeneity():\n",
    "    \n",
    "    def __init__(self, populations=[], alpha=0.01, critical_value=6.635):\n",
    "        self.populations = populations\n",
    "        if len(populations) > 2:\n",
    "            raise ValueError(\"Cannot compare more than two populations.\")\n",
    "        elif len(set(populations)) != len(populations):\n",
    "            raise ValueError(\"Cannot compare the same population\")\n",
    "        else:\n",
    "            self.comparison_data = self.select_populations()\n",
    "            self.pop1_data, self.pop2_data = self.comparison_data[0], self.comparison_data[1]\n",
    "            self.pop1_label, self.pop2_label = self.populations[0], self.populations[1]\n",
    "            self.alpha = alpha\n",
    "            self.crit = critical_value\n",
    "        \n",
    "    def select_populations(self):\n",
    "        pops = []\n",
    "        for pop in self.populations:\n",
    "            if pop == \"Women\":\n",
    "                pops.append(women)\n",
    "            elif pop == \"Men\":\n",
    "                pops.append(men)\n",
    "            elif pop == \"Children\":\n",
    "                pops.append(children)\n",
    "        return pops\n",
    "\n",
    "    \n",
    "    def calculate_life_and_death(self, pop_data):\n",
    "        return pop_data[\"Survived\"].sum(), (pop_data[\"Survived\"].count() - pop_data[\"Survived\"].sum())\n",
    "    \n",
    "    def generate_comp_table(self):\n",
    "        '''Create comparison table'''\n",
    "        pop1_survived, pop1_died = calculate_life_and_death(self.pop1_data)\n",
    "        pop2_survived, pop2_died = calculate_life_and_death(self.pop2_data)\n",
    "        total_survived = pop1_survived + pop2_survived\n",
    "        total_died = pop1_died + pop2_died \n",
    "        total_pop1 = self.pop1_data[\"Survived\"].count()\n",
    "        total_pop2 = self.pop2_data[\"Survived\"].count()\n",
    "        self.comp_table = pd.DataFrame({\"Survived\": {self.pop1_label: pop1_survived, \n",
    "                                                     self.pop2_label: pop2_survived, \n",
    "                                                     \"Total\": total_survived}, \n",
    "                                        \"Died\": {self.pop1_label: pop1_died, \n",
    "                                                 self.pop2_label: pop2_died,  \n",
    "                                                 \"Total\": total_died},\n",
    "                                        \"Total\": {self.pop1_label: total_pop1, \n",
    "                                                  self.pop2_label: total_pop2, \n",
    "                                                  \"Total\": total_pop1+total_pop2}}).T[[self.pop1_label, self.pop2_label, \"Total\"]].T\n",
    "        print \"\\n\\nComparison Table\\n\"\n",
    "        print self.comp_table\n",
    "    \n",
    "    def calculate_E(self, row_total, column_total):\n",
    "        grand_total = self.comp_table.loc[\"Total\"][\"Total\"]\n",
    "        return (row_total * column_total) / grand_total\n",
    "    \n",
    "    def calculate_E_by_pop(self, pop):\n",
    "        died = self.calculate_E(self.comp_table.loc[pop][\"Total\"], self.comp_table.loc[pop][\"Died\"])\n",
    "        survived = self.calculate_E(self.comp_table.loc[pop][\"Total\"], self.comp_table.loc[pop][\"Survived\"])\n",
    "        return died, survived\n",
    "    \n",
    "    def generate_e_table(self):\n",
    "        '''Create expected frequency contingency table'''\n",
    "        # helpful resource: http://www.pindling.org/Math/Statistics/Textbook/Chapter11_Chi_Square/homogeneity.html\n",
    "        \n",
    "        pop1_died_e, pop1_survived_e = self.calculate_E_by_pop(self.pop1_label)\n",
    "        pop2_died_e, pop2_survived_e = self.calculate_E_by_pop(self.pop2_label)\n",
    "        self.e_table =  pd.DataFrame({\"Survived\": {self.pop1_label: pop1_survived_e, self.pop2_label: pop2_survived_e}, \n",
    "                                      \"Died\": {self.pop1_label: pop1_died_e, self.pop2_label: pop2_died_e}})\n",
    "        print \"\\n\\nExpected Frequency Table\\n\"\n",
    "        print self.e_table\n",
    "    \n",
    "    def print_results(self):\n",
    "        print \"\\n\\nResults\\n\"\n",
    "        print \"Chi-square: %f\" % self.chi_squared\n",
    "        print \"Chi-square critical value at p=%f: %f\" % (self.alpha, self.crit)\n",
    "        print \"Statistically significant: %s\" % (self.chi_squared > self.crit)\n",
    "    \n",
    "    def run_test(self):\n",
    "        '''Run a chi-square test of homogeneity based on the population data and parameters \n",
    "        with which the instance was created'''\n",
    "        \n",
    "        print \"Chi-Square Test of Homogeneity\"\n",
    "        print \"Comparison of Rates of Survival between %s and %s\" % (self.pop1_label, self.pop2_label)\n",
    "        \n",
    "        # Step 0: generate tables\n",
    "        \n",
    "        self.generate_comp_table()\n",
    "        self.generate_e_table()\n",
    "        \n",
    "        # Step 1: subtract observed from expected\n",
    "        comp_wo_totals = self.comp_table[[\"Died\", \"Survived\"]].loc[[self.pop1_label, self.pop2_label]]\n",
    "        diff = comp_wo_totals - self.e_table\n",
    "\n",
    "        # Step 2: square each value\n",
    "        diff = diff**2\n",
    "\n",
    "        # Step 3: divide by expected frequency\n",
    "        diff = diff/self.e_table\n",
    "\n",
    "        # Step 4: calculate chi-squared\n",
    "        self.chi_squared = diff.loc[self.pop1_label].sum() + diff.loc[self.pop2_label].sum()\n",
    "        \n",
    "        # Step 5: print results\n",
    "        self.print_results()"
   ]
  },
  {
   "cell_type": "code",
   "execution_count": 356,
   "metadata": {
    "collapsed": false
   },
   "outputs": [
    {
     "name": "stdout",
     "output_type": "stream",
     "text": [
      "Chi-Square Test of Homogeneity\n",
      "Comparison of Rates of Survival between Women and Men\n",
      "\n",
      "\n",
      "Comparison Table\n",
      "\n",
      "        Died  Survived  Total\n",
      "Women   49.0     169.0  218.0\n",
      "Men    341.0      72.0  413.0\n",
      "Total  390.0     241.0  631.0\n",
      "\n",
      "\n",
      "Expected Frequency Table\n",
      "\n",
      "             Died   Survived\n",
      "Men    223.190174  47.125198\n",
      "Women   16.928685  58.386688\n",
      "\n",
      "\n",
      "Results\n",
      "\n",
      "Chi-square: 345.630745\n",
      "Chi-square critical value at p=0.010000: 6.635000\n",
      "Statistically significant: True\n"
     ]
    }
   ],
   "source": [
    "chi_test_women_men = ChiSquareTestOfHomogeneity(populations=[\"Women\", \"Men\"])\n",
    "chi_test_women_men.run_test()"
   ]
  },
  {
   "cell_type": "code",
   "execution_count": 357,
   "metadata": {
    "collapsed": false,
    "scrolled": true
   },
   "outputs": [
    {
     "name": "stdout",
     "output_type": "stream",
     "text": [
      "Chi-Square Test of Homogeneity\n",
      "Comparison of Rates of Survival between Men and Children\n",
      "\n",
      "\n",
      "Comparison Table\n",
      "\n",
      "           Died  Survived  Total\n",
      "Men       341.0      72.0  413.0\n",
      "Children   34.0      49.0   83.0\n",
      "Total     375.0     121.0  496.0\n",
      "\n",
      "\n",
      "Expected Frequency Table\n",
      "\n",
      "                Died   Survived\n",
      "Children    5.689516   8.199597\n",
      "Men       283.937500  59.951613\n",
      "\n",
      "\n",
      "Results\n",
      "\n",
      "Chi-square: 357.778226\n",
      "Chi-square critical value at p=0.010000: 6.635000\n",
      "Statistically significant: True\n"
     ]
    }
   ],
   "source": [
    "chi_test_children_men = ChiSquareTestOfHomogeneity(populations=[\"Men\", \"Children\"])\n",
    "chi_test_children_men.run_test()"
   ]
  },
  {
   "cell_type": "markdown",
   "metadata": {},
   "source": [
    "In both chi-square tests of homogeneity, we **reject the null hypothesis** that the rate of survival for men is equal to the rates of survival for both women and children. Both chi-square values were far above the critical value of 6.635, which indicates that that proportion of men surviving the crash is statistically significantly different (in this case, lower, as confirmed by the original plot) than the proportions for women and children."
   ]
  },
  {
   "cell_type": "code",
   "execution_count": null,
   "metadata": {
    "collapsed": true
   },
   "outputs": [],
   "source": []
  }
 ],
 "metadata": {
  "anaconda-cloud": {},
  "kernelspec": {
   "display_name": "Python [default]",
   "language": "python",
   "name": "python2"
  },
  "language_info": {
   "codemirror_mode": {
    "name": "ipython",
    "version": 2
   },
   "file_extension": ".py",
   "mimetype": "text/x-python",
   "name": "python",
   "nbconvert_exporter": "python",
   "pygments_lexer": "ipython2",
   "version": "2.7.12"
  }
 },
 "nbformat": 4,
 "nbformat_minor": 1
}
